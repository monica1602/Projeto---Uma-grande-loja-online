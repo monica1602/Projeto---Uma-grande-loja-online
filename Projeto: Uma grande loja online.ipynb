{
 "cells": [
  {
   "cell_type": "markdown",
   "metadata": {},
   "source": [
    "# Parte 1 - Priorizando Hipóteses"
   ]
  },
  {
   "cell_type": "code",
   "execution_count": 315,
   "metadata": {},
   "outputs": [],
   "source": [
    "import pandas as pd\n",
    "from matplotlib import pyplot as plt\n",
    "import numpy as np\n",
    "import seaborn as sns\n",
    "from math import factorial\n",
    "from scipy import stats as st\n",
    "import math\n",
    "import plotly.express as px\n",
    "import datetime as dt\n",
    "import re\n",
    "from scipy import stats"
   ]
  },
  {
   "cell_type": "code",
   "execution_count": 316,
   "metadata": {},
   "outputs": [],
   "source": [
    "df_hypotheses = pd.read_csv('/datasets/hypotheses_us.csv', sep = ';')\n"
   ]
  },
  {
   "cell_type": "code",
   "execution_count": 317,
   "metadata": {},
   "outputs": [
    {
     "name": "stdout",
     "output_type": "stream",
     "text": [
      "<class 'pandas.core.frame.DataFrame'>\n",
      "RangeIndex: 9 entries, 0 to 8\n",
      "Data columns (total 5 columns):\n",
      " #   Column      Non-Null Count  Dtype \n",
      "---  ------      --------------  ----- \n",
      " 0   Hypothesis  9 non-null      object\n",
      " 1   Reach       9 non-null      int64 \n",
      " 2   Impact      9 non-null      int64 \n",
      " 3   Confidence  9 non-null      int64 \n",
      " 4   Effort      9 non-null      int64 \n",
      "dtypes: int64(4), object(1)\n",
      "memory usage: 488.0+ bytes\n"
     ]
    }
   ],
   "source": [
    "df_hypotheses.info()"
   ]
  },
  {
   "cell_type": "code",
   "execution_count": 318,
   "metadata": {},
   "outputs": [
    {
     "data": {
      "text/html": [
       "<div>\n",
       "<style scoped>\n",
       "    .dataframe tbody tr th:only-of-type {\n",
       "        vertical-align: middle;\n",
       "    }\n",
       "\n",
       "    .dataframe tbody tr th {\n",
       "        vertical-align: top;\n",
       "    }\n",
       "\n",
       "    .dataframe thead th {\n",
       "        text-align: right;\n",
       "    }\n",
       "</style>\n",
       "<table border=\"1\" class=\"dataframe\">\n",
       "  <thead>\n",
       "    <tr style=\"text-align: right;\">\n",
       "      <th></th>\n",
       "      <th>Hypothesis</th>\n",
       "      <th>Reach</th>\n",
       "      <th>Impact</th>\n",
       "      <th>Confidence</th>\n",
       "      <th>Effort</th>\n",
       "    </tr>\n",
       "  </thead>\n",
       "  <tbody>\n",
       "    <tr>\n",
       "      <th>0</th>\n",
       "      <td>Add two new channels for attracting traffic. T...</td>\n",
       "      <td>3</td>\n",
       "      <td>10</td>\n",
       "      <td>8</td>\n",
       "      <td>6</td>\n",
       "    </tr>\n",
       "    <tr>\n",
       "      <th>1</th>\n",
       "      <td>Launch your own delivery service. This will sh...</td>\n",
       "      <td>2</td>\n",
       "      <td>5</td>\n",
       "      <td>4</td>\n",
       "      <td>10</td>\n",
       "    </tr>\n",
       "    <tr>\n",
       "      <th>2</th>\n",
       "      <td>Add product recommendation blocks to the store...</td>\n",
       "      <td>8</td>\n",
       "      <td>3</td>\n",
       "      <td>7</td>\n",
       "      <td>3</td>\n",
       "    </tr>\n",
       "    <tr>\n",
       "      <th>3</th>\n",
       "      <td>Change the category structure. This will incre...</td>\n",
       "      <td>8</td>\n",
       "      <td>3</td>\n",
       "      <td>3</td>\n",
       "      <td>8</td>\n",
       "    </tr>\n",
       "    <tr>\n",
       "      <th>4</th>\n",
       "      <td>Change the background color on the main page. ...</td>\n",
       "      <td>3</td>\n",
       "      <td>1</td>\n",
       "      <td>1</td>\n",
       "      <td>1</td>\n",
       "    </tr>\n",
       "  </tbody>\n",
       "</table>\n",
       "</div>"
      ],
      "text/plain": [
       "                                          Hypothesis  Reach  Impact  \\\n",
       "0  Add two new channels for attracting traffic. T...      3      10   \n",
       "1  Launch your own delivery service. This will sh...      2       5   \n",
       "2  Add product recommendation blocks to the store...      8       3   \n",
       "3  Change the category structure. This will incre...      8       3   \n",
       "4  Change the background color on the main page. ...      3       1   \n",
       "\n",
       "   Confidence  Effort  \n",
       "0           8       6  \n",
       "1           4      10  \n",
       "2           7       3  \n",
       "3           3       8  \n",
       "4           1       1  "
      ]
     },
     "execution_count": 318,
     "metadata": {},
     "output_type": "execute_result"
    }
   ],
   "source": [
    "df_hypotheses.head()"
   ]
  },
  {
   "cell_type": "code",
   "execution_count": 319,
   "metadata": {},
   "outputs": [
    {
     "name": "stdout",
     "output_type": "stream",
     "text": [
      "                                          Hypothesis        ICE\n",
      "8  Launch a promotion that gives users discounts ...  16.200000\n",
      "0  Add two new channels for attracting traffic. T...  13.333333\n",
      "7  Add a subscription form to all the main pages....  11.200000\n",
      "6  Show banners with current offers and sales on ...   8.000000\n",
      "2  Add product recommendation blocks to the store...   7.000000\n",
      "1  Launch your own delivery service. This will sh...   2.000000\n",
      "5  Add a customer review page. This will increase...   1.333333\n",
      "3  Change the category structure. This will incre...   1.125000\n",
      "4  Change the background color on the main page. ...   1.000000\n"
     ]
    }
   ],
   "source": [
    "df_hypotheses['ICE'] = (df_hypotheses['Impact'] * df_hypotheses['Confidence']) / df_hypotheses['Effort']\n",
    "print(df_hypotheses[['Hypothesis', 'ICE']].sort_values(by = 'ICE', ascending = False))"
   ]
  },
  {
   "cell_type": "code",
   "execution_count": 320,
   "metadata": {},
   "outputs": [
    {
     "name": "stdout",
     "output_type": "stream",
     "text": [
      "                                          Hypothesis   RICE\n",
      "7  Add a subscription form to all the main pages....  112.0\n",
      "2  Add product recommendation blocks to the store...   56.0\n",
      "0  Add two new channels for attracting traffic. T...   40.0\n",
      "6  Show banners with current offers and sales on ...   40.0\n",
      "8  Launch a promotion that gives users discounts ...   16.2\n",
      "3  Change the category structure. This will incre...    9.0\n",
      "1  Launch your own delivery service. This will sh...    4.0\n",
      "5  Add a customer review page. This will increase...    4.0\n",
      "4  Change the background color on the main page. ...    3.0\n"
     ]
    }
   ],
   "source": [
    "df_hypotheses['RICE'] = (df_hypotheses['Reach'] * df_hypotheses['Impact'] * df_hypotheses['Confidence']) / df_hypotheses['Effort']\n",
    "print(df_hypotheses[['Hypothesis', 'RICE']].sort_values(by = 'RICE', ascending = False))"
   ]
  },
  {
   "cell_type": "markdown",
   "metadata": {},
   "source": [
    "- de acordo com resultados dos testes acima, é possível perceber que a sequencias de prioridade muda\n",
    "- no caso do ICE, a hipótese prioritária é o 8, enquanto no RICE, a hipótese prioritária é a 7\n",
    "- a sequência do ICE é 8,0,7,6,2,1,5,3,4\n",
    "- a sequência do RICE é 7,2,0,6,8,3,1,5,4\n",
    "- somente como menos prioritário eles coencidem"
   ]
  },
  {
   "cell_type": "code",
   "execution_count": 321,
   "metadata": {},
   "outputs": [],
   "source": [
    "df_orders= pd.read_csv('/datasets/orders_us.csv')"
   ]
  },
  {
   "cell_type": "code",
   "execution_count": 322,
   "metadata": {
    "scrolled": true
   },
   "outputs": [
    {
     "name": "stdout",
     "output_type": "stream",
     "text": [
      "<class 'pandas.core.frame.DataFrame'>\n",
      "RangeIndex: 1197 entries, 0 to 1196\n",
      "Data columns (total 5 columns):\n",
      " #   Column         Non-Null Count  Dtype  \n",
      "---  ------         --------------  -----  \n",
      " 0   transactionId  1197 non-null   int64  \n",
      " 1   visitorId      1197 non-null   int64  \n",
      " 2   date           1197 non-null   object \n",
      " 3   revenue        1197 non-null   float64\n",
      " 4   group          1197 non-null   object \n",
      "dtypes: float64(1), int64(2), object(2)\n",
      "memory usage: 46.9+ KB\n"
     ]
    }
   ],
   "source": [
    "df_orders.info()"
   ]
  },
  {
   "cell_type": "markdown",
   "metadata": {},
   "source": [
    "- não possui valores ausentes"
   ]
  },
  {
   "cell_type": "code",
   "execution_count": 323,
   "metadata": {},
   "outputs": [
    {
     "data": {
      "text/html": [
       "<div>\n",
       "<style scoped>\n",
       "    .dataframe tbody tr th:only-of-type {\n",
       "        vertical-align: middle;\n",
       "    }\n",
       "\n",
       "    .dataframe tbody tr th {\n",
       "        vertical-align: top;\n",
       "    }\n",
       "\n",
       "    .dataframe thead th {\n",
       "        text-align: right;\n",
       "    }\n",
       "</style>\n",
       "<table border=\"1\" class=\"dataframe\">\n",
       "  <thead>\n",
       "    <tr style=\"text-align: right;\">\n",
       "      <th></th>\n",
       "      <th>transactionId</th>\n",
       "      <th>visitorId</th>\n",
       "      <th>date</th>\n",
       "      <th>revenue</th>\n",
       "      <th>group</th>\n",
       "    </tr>\n",
       "  </thead>\n",
       "  <tbody>\n",
       "    <tr>\n",
       "      <th>0</th>\n",
       "      <td>3667963787</td>\n",
       "      <td>3312258926</td>\n",
       "      <td>2019-08-15</td>\n",
       "      <td>30.4</td>\n",
       "      <td>B</td>\n",
       "    </tr>\n",
       "    <tr>\n",
       "      <th>1</th>\n",
       "      <td>2804400009</td>\n",
       "      <td>3642806036</td>\n",
       "      <td>2019-08-15</td>\n",
       "      <td>15.2</td>\n",
       "      <td>B</td>\n",
       "    </tr>\n",
       "    <tr>\n",
       "      <th>2</th>\n",
       "      <td>2961555356</td>\n",
       "      <td>4069496402</td>\n",
       "      <td>2019-08-15</td>\n",
       "      <td>10.2</td>\n",
       "      <td>A</td>\n",
       "    </tr>\n",
       "    <tr>\n",
       "      <th>3</th>\n",
       "      <td>3797467345</td>\n",
       "      <td>1196621759</td>\n",
       "      <td>2019-08-15</td>\n",
       "      <td>155.1</td>\n",
       "      <td>B</td>\n",
       "    </tr>\n",
       "    <tr>\n",
       "      <th>4</th>\n",
       "      <td>2282983706</td>\n",
       "      <td>2322279887</td>\n",
       "      <td>2019-08-15</td>\n",
       "      <td>40.5</td>\n",
       "      <td>B</td>\n",
       "    </tr>\n",
       "  </tbody>\n",
       "</table>\n",
       "</div>"
      ],
      "text/plain": [
       "   transactionId   visitorId        date  revenue group\n",
       "0     3667963787  3312258926  2019-08-15     30.4     B\n",
       "1     2804400009  3642806036  2019-08-15     15.2     B\n",
       "2     2961555356  4069496402  2019-08-15     10.2     A\n",
       "3     3797467345  1196621759  2019-08-15    155.1     B\n",
       "4     2282983706  2322279887  2019-08-15     40.5     B"
      ]
     },
     "execution_count": 323,
     "metadata": {},
     "output_type": "execute_result"
    }
   ],
   "source": [
    "df_orders.head()"
   ]
  },
  {
   "cell_type": "code",
   "execution_count": 324,
   "metadata": {},
   "outputs": [
    {
     "data": {
      "text/plain": [
       "B    640\n",
       "A    557\n",
       "Name: group, dtype: int64"
      ]
     },
     "execution_count": 324,
     "metadata": {},
     "output_type": "execute_result"
    }
   ],
   "source": [
    "df_orders['group'].value_counts()"
   ]
  },
  {
   "cell_type": "code",
   "execution_count": 325,
   "metadata": {
    "scrolled": false
   },
   "outputs": [
    {
     "name": "stdout",
     "output_type": "stream",
     "text": [
      "Empty DataFrame\n",
      "Columns: [transactionId, visitorId, date, revenue, group]\n",
      "Index: []\n"
     ]
    }
   ],
   "source": [
    "df_orders_duplicated = df_orders[df_orders.duplicated()]\n",
    "print(df_orders_duplicated)"
   ]
  },
  {
   "cell_type": "markdown",
   "metadata": {},
   "source": [
    "- não existe valores duplicados"
   ]
  },
  {
   "cell_type": "code",
   "execution_count": 326,
   "metadata": {},
   "outputs": [],
   "source": [
    "df_orders['date'] = df_orders['date'].map(lambda x: dt.datetime.strptime(x, '%Y-%m-%d'))\n"
   ]
  },
  {
   "cell_type": "code",
   "execution_count": 327,
   "metadata": {},
   "outputs": [],
   "source": [
    "df_visitors = pd.read_csv('/datasets/visitors_us.csv')"
   ]
  },
  {
   "cell_type": "code",
   "execution_count": 328,
   "metadata": {
    "scrolled": true
   },
   "outputs": [
    {
     "name": "stdout",
     "output_type": "stream",
     "text": [
      "<class 'pandas.core.frame.DataFrame'>\n",
      "RangeIndex: 62 entries, 0 to 61\n",
      "Data columns (total 3 columns):\n",
      " #   Column  Non-Null Count  Dtype \n",
      "---  ------  --------------  ----- \n",
      " 0   date    62 non-null     object\n",
      " 1   group   62 non-null     object\n",
      " 2   visits  62 non-null     int64 \n",
      "dtypes: int64(1), object(2)\n",
      "memory usage: 1.6+ KB\n"
     ]
    }
   ],
   "source": [
    "df_visitors.info()"
   ]
  },
  {
   "cell_type": "markdown",
   "metadata": {},
   "source": [
    "- não possui valores ausentes"
   ]
  },
  {
   "cell_type": "code",
   "execution_count": 329,
   "metadata": {},
   "outputs": [
    {
     "data": {
      "text/html": [
       "<div>\n",
       "<style scoped>\n",
       "    .dataframe tbody tr th:only-of-type {\n",
       "        vertical-align: middle;\n",
       "    }\n",
       "\n",
       "    .dataframe tbody tr th {\n",
       "        vertical-align: top;\n",
       "    }\n",
       "\n",
       "    .dataframe thead th {\n",
       "        text-align: right;\n",
       "    }\n",
       "</style>\n",
       "<table border=\"1\" class=\"dataframe\">\n",
       "  <thead>\n",
       "    <tr style=\"text-align: right;\">\n",
       "      <th></th>\n",
       "      <th>date</th>\n",
       "      <th>group</th>\n",
       "      <th>visits</th>\n",
       "    </tr>\n",
       "  </thead>\n",
       "  <tbody>\n",
       "    <tr>\n",
       "      <th>0</th>\n",
       "      <td>2019-08-01</td>\n",
       "      <td>A</td>\n",
       "      <td>719</td>\n",
       "    </tr>\n",
       "    <tr>\n",
       "      <th>1</th>\n",
       "      <td>2019-08-02</td>\n",
       "      <td>A</td>\n",
       "      <td>619</td>\n",
       "    </tr>\n",
       "    <tr>\n",
       "      <th>2</th>\n",
       "      <td>2019-08-03</td>\n",
       "      <td>A</td>\n",
       "      <td>507</td>\n",
       "    </tr>\n",
       "    <tr>\n",
       "      <th>3</th>\n",
       "      <td>2019-08-04</td>\n",
       "      <td>A</td>\n",
       "      <td>717</td>\n",
       "    </tr>\n",
       "    <tr>\n",
       "      <th>4</th>\n",
       "      <td>2019-08-05</td>\n",
       "      <td>A</td>\n",
       "      <td>756</td>\n",
       "    </tr>\n",
       "  </tbody>\n",
       "</table>\n",
       "</div>"
      ],
      "text/plain": [
       "         date group  visits\n",
       "0  2019-08-01     A     719\n",
       "1  2019-08-02     A     619\n",
       "2  2019-08-03     A     507\n",
       "3  2019-08-04     A     717\n",
       "4  2019-08-05     A     756"
      ]
     },
     "execution_count": 329,
     "metadata": {},
     "output_type": "execute_result"
    }
   ],
   "source": [
    "df_visitors.head()"
   ]
  },
  {
   "cell_type": "code",
   "execution_count": 330,
   "metadata": {},
   "outputs": [
    {
     "data": {
      "text/plain": [
       "B    31\n",
       "A    31\n",
       "Name: group, dtype: int64"
      ]
     },
     "execution_count": 330,
     "metadata": {},
     "output_type": "execute_result"
    }
   ],
   "source": [
    "df_visitors['group'].value_counts()"
   ]
  },
  {
   "cell_type": "code",
   "execution_count": 331,
   "metadata": {
    "scrolled": true
   },
   "outputs": [
    {
     "name": "stdout",
     "output_type": "stream",
     "text": [
      "Empty DataFrame\n",
      "Columns: [date, group, visits]\n",
      "Index: []\n"
     ]
    }
   ],
   "source": [
    "df_visitors_duplicated = df_visitors[df_visitors.duplicated()]\n",
    "print(df_visitors_duplicated)"
   ]
  },
  {
   "cell_type": "markdown",
   "metadata": {},
   "source": [
    "- não possui valores duplicados"
   ]
  },
  {
   "cell_type": "code",
   "execution_count": 332,
   "metadata": {},
   "outputs": [],
   "source": [
    "df_visitors['date'] = df_visitors['date'].map(lambda x: dt.datetime.strptime(x, '%Y-%m-%d'))"
   ]
  },
  {
   "cell_type": "code",
   "execution_count": 333,
   "metadata": {
    "scrolled": false
   },
   "outputs": [
    {
     "name": "stdout",
     "output_type": "stream",
     "text": [
      "          date group  transactionId  visitorId  revenue\n",
      "55  2019-08-01     A             24         20   2356.8\n",
      "66  2019-08-01     B             21         20   1620.0\n",
      "175 2019-08-02     A             44         38   3860.3\n",
      "173 2019-08-02     B             45         43   4243.8\n",
      "291 2019-08-03     A             68         62   5675.5\n",
      "..         ...   ...            ...        ...      ...\n",
      "496 2019-08-29     B            596        544  87343.0\n",
      "730 2019-08-30     A            545        493  63563.5\n",
      "690 2019-08-30     B            620        567  90736.3\n",
      "958 2019-08-31     A            557        503  64554.9\n",
      "930 2019-08-31     B            640        586  92840.6\n",
      "\n",
      "[62 rows x 5 columns]\n",
      "          date group  visits\n",
      "55  2019-08-01     A     719\n",
      "66  2019-08-01     B     713\n",
      "175 2019-08-02     A    1338\n",
      "173 2019-08-02     B    1294\n",
      "291 2019-08-03     A    1845\n",
      "..         ...   ...     ...\n",
      "496 2019-08-29     B   17708\n",
      "730 2019-08-30     A   18037\n",
      "690 2019-08-30     B   18198\n",
      "958 2019-08-31     A   18736\n",
      "930 2019-08-31     B   18916\n",
      "\n",
      "[62 rows x 3 columns]\n"
     ]
    }
   ],
   "source": [
    "datesGroups = df_orders[['date', 'group']].drop_duplicates()\n",
    "ordersAggregated = datesGroups.apply(lambda x: df_orders[np.logical_and(df_orders['date'] <= x['date'], df_orders['group'] == x['group'])].agg({'date' : 'max', 'group' : 'max', 'transactionId' : pd.Series.nunique, 'visitorId' : pd.Series.nunique, 'revenue' : 'sum'}), axis=1).sort_values(by=['date', 'group'])\n",
    "\n",
    "visitorsAggregated = datesGroups.apply(lambda x: df_visitors[np.logical_and(df_visitors['date'] <= x['date'], df_visitors['group'] == x['group'])].agg({'date' : 'max', 'group' : 'max', 'visits' : 'sum'}), axis=1).sort_values(by=['date', 'group'])\n",
    "print(ordersAggregated)\n",
    "print(visitorsAggregated)"
   ]
  },
  {
   "cell_type": "markdown",
   "metadata": {},
   "source": [
    "- foi efetuado o agrupadmento por data e por grupo para orders e para visitors"
   ]
  },
  {
   "cell_type": "code",
   "execution_count": 334,
   "metadata": {},
   "outputs": [
    {
     "name": "stdout",
     "output_type": "stream",
     "text": [
      "        date group  orders  buyers  revenue  visitors\n",
      "0 2019-08-01     A      24      20   2356.8       719\n",
      "1 2019-08-01     B      21      20   1620.0       713\n",
      "2 2019-08-02     A      44      38   3860.3      1338\n",
      "3 2019-08-02     B      45      43   4243.8      1294\n",
      "4 2019-08-03     A      68      62   5675.5      1845\n"
     ]
    }
   ],
   "source": [
    "cumulativeData = ordersAggregated.merge(visitorsAggregated, left_on=['date', 'group'], right_on=['date', 'group'])\n",
    "cumulativeData.columns = ['date', 'group', 'orders', 'buyers', 'revenue', 'visitors']\n",
    "print(cumulativeData.head())"
   ]
  },
  {
   "cell_type": "markdown",
   "metadata": {},
   "source": [
    "- foi feito o acumulado entre orders e visitors"
   ]
  },
  {
   "cell_type": "code",
   "execution_count": 335,
   "metadata": {},
   "outputs": [],
   "source": [
    "cumulativeRevenueA = cumulativeData[cumulativeData['group'] == 'A'][['date', 'revenue', 'orders']]\n",
    "cumulativeRevenueB = cumulativeData[cumulativeData['group'] == 'B'][['date', 'revenue', 'orders']]"
   ]
  },
  {
   "cell_type": "code",
   "execution_count": 336,
   "metadata": {},
   "outputs": [
    {
     "data": {
      "text/plain": [
       "<matplotlib.legend.Legend at 0x7fcd722281f0>"
      ]
     },
     "execution_count": 336,
     "metadata": {},
     "output_type": "execute_result"
    },
    {
     "data": {
      "image/png": "[encoded data removed]",
      "text/plain": [
       "<Figure size 640x480 with 1 Axes>"
      ]
     },
     "metadata": {},
     "output_type": "display_data"
    }
   ],
   "source": [
    "plt.plot(cumulativeRevenueA['date'], cumulativeRevenueA['revenue'], label = 'A')\n",
    "plt.plot(cumulativeRevenueB['date'], cumulativeRevenueB['revenue'], label = 'B')\n",
    "plt.xticks(rotation=45)\n",
    "plt.legend()"
   ]
  },
  {
   "cell_type": "markdown",
   "metadata": {},
   "source": [
    "- é possivel perceber que o acumulado do grupo B esta aumentando bem mais que o grupo A e mais rapidamente"
   ]
  },
  {
   "cell_type": "code",
   "execution_count": 337,
   "metadata": {},
   "outputs": [
    {
     "data": {
      "text/plain": [
       "<matplotlib.legend.Legend at 0x7fcd72422910>"
      ]
     },
     "execution_count": 337,
     "metadata": {},
     "output_type": "execute_result"
    },
    {
     "data": {
      "image/png": "[encoded data removed]",
      "text/plain": [
       "<Figure size 640x480 with 1 Axes>"
      ]
     },
     "metadata": {},
     "output_type": "display_data"
    }
   ],
   "source": [
    "plt.plot(cumulativeRevenueA['date'], cumulativeRevenueA['revenue']/cumulativeRevenueA['orders'], label='A')\n",
    "plt.plot(cumulativeRevenueB['date'], cumulativeRevenueB['revenue']/cumulativeRevenueB['orders'], label='B')\n",
    "plt.xticks(rotation=45)\n",
    "plt.legend()"
   ]
  },
  {
   "cell_type": "markdown",
   "metadata": {},
   "source": [
    "- é possivel ver que os dois tem picos\n",
    "- em um momento o grupo A ultrapassa o grupo B\n",
    "- depois do pico o grupo A fica meio estabilizado\n",
    "- o group B tem varios picos e um grande pico no final\n",
    "- depois do último pico, que é o maior, o grupo B aparenta estar em queda, porém é preciso de mais dados para saber se isso vai se concretizar"
   ]
  },
  {
   "cell_type": "code",
   "execution_count": 338,
   "metadata": {},
   "outputs": [],
   "source": [
    "mergedCumulativeRevenue = cumulativeRevenueA.merge(cumulativeRevenueB, left_on = 'date', right_on = 'date', how = 'left', suffixes = ['A', 'B'])\n"
   ]
  },
  {
   "cell_type": "code",
   "execution_count": 339,
   "metadata": {},
   "outputs": [
    {
     "data": {
      "text/plain": [
       "<matplotlib.lines.Line2D at 0x7fcd72422d00>"
      ]
     },
     "execution_count": 339,
     "metadata": {},
     "output_type": "execute_result"
    },
    {
     "data": {
      "image/png": "[encoded data removed]",
      "text/plain": [
       "<Figure size 640x480 with 1 Axes>"
      ]
     },
     "metadata": {},
     "output_type": "display_data"
    }
   ],
   "source": [
    "plt.plot(mergedCumulativeRevenue['date'], (mergedCumulativeRevenue['revenueB']/mergedCumulativeRevenue['ordersB'])/(mergedCumulativeRevenue['revenueA']/mergedCumulativeRevenue['ordersA']) - 1)\n",
    "plt.xticks(rotation=45)\n",
    "plt.axhline(y=0, color='black', linestyle='--')"
   ]
  },
  {
   "cell_type": "markdown",
   "metadata": {},
   "source": [
    "- em vários pontos, a diferença entre os segmentos apresenta picos\n",
    "- isso pode indicar a ocorrência de valores atípicos"
   ]
  },
  {
   "cell_type": "code",
   "execution_count": 340,
   "metadata": {},
   "outputs": [],
   "source": [
    "cumulativeData['conversion'] = cumulativeData['orders']/cumulativeData['visitors']"
   ]
  },
  {
   "cell_type": "code",
   "execution_count": 341,
   "metadata": {},
   "outputs": [],
   "source": [
    "cumulativeDataA = cumulativeData[cumulativeData['group'] == 'A']\n",
    "cumulativeDataB = cumulativeData[cumulativeData['group'] == 'B']"
   ]
  },
  {
   "cell_type": "code",
   "execution_count": 342,
   "metadata": {},
   "outputs": [
    {
     "data": {
      "text/plain": [
       "<matplotlib.legend.Legend at 0x7fcd721d6b50>"
      ]
     },
     "execution_count": 342,
     "metadata": {},
     "output_type": "execute_result"
    },
    {
     "data": {
      "image/png": "[encoded data removed]",
      "text/plain": [
       "<Figure size 640x480 with 1 Axes>"
      ]
     },
     "metadata": {},
     "output_type": "display_data"
    }
   ],
   "source": [
    "plt.plot(cumulativeDataA['date'], cumulativeDataA['conversion'], label='A')\n",
    "plt.plot(cumulativeDataB['date'], cumulativeDataB['conversion'], label='B')\n",
    "plt.xticks(rotation=45)\n",
    "plt.legend()"
   ]
  },
  {
   "cell_type": "markdown",
   "metadata": {},
   "source": [
    "- nos dois gráficos é possível perceber que existem muitos picos\n",
    "- o griupo A tem um grande pico no início e depois uma grande queda, depois fica meio estabilizado\n",
    "- o grupo B começa bem menor tem um grande pico seguido de uma grande queda, depois mais um grande pico e ele permance ness pico com alogumas variações\n",
    "- o groupo B está bem maior que o grupo B depois do início invertido"
   ]
  },
  {
   "cell_type": "code",
   "execution_count": 343,
   "metadata": {},
   "outputs": [],
   "source": [
    "mergedCumulativeConversions = cumulativeDataA[['date', 'conversion']].merge(cumulativeDataB[['date', 'conversion']], left_on='date', right_on='date', how='left', suffixes=['A', 'B'])"
   ]
  },
  {
   "cell_type": "code",
   "execution_count": 344,
   "metadata": {},
   "outputs": [
    {
     "name": "stderr",
     "output_type": "stream",
     "text": [
      "No handles with labels found to put in legend.\n"
     ]
    },
    {
     "data": {
      "text/plain": [
       "<matplotlib.lines.Line2D at 0x7fcd721006a0>"
      ]
     },
     "execution_count": 344,
     "metadata": {},
     "output_type": "execute_result"
    },
    {
     "data": {
      "image/png": "[encoded data removed]",
      "text/plain": [
       "<Figure size 640x480 with 1 Axes>"
      ]
     },
     "metadata": {},
     "output_type": "display_data"
    }
   ],
   "source": [
    "plt.plot(mergedCumulativeConversions['date'], mergedCumulativeConversions['conversionB']/mergedCumulativeConversions['conversionA'] - 1)\n",
    "plt.xticks(rotation=45)\n",
    "plt.legend()\n",
    "plt.axhline(y=0, color='black', linestyle='--')\n",
    "plt.axhline(y=0.1, color='gray', linestyle='--')"
   ]
  },
  {
   "cell_type": "markdown",
   "metadata": {},
   "source": [
    "- a taxa de conversão não está nem um pouco estável\n",
    "- apesar disso, ele teve um grande pico e aumento na taxa\n",
    "- teve um pequena queda\n",
    "- porém, aparenta estar em crescimento novamente\n",
    "- mesmo com tudo isso, ainda não é possível chegar ainda em alguma conclusão "
   ]
  },
  {
   "cell_type": "code",
   "execution_count": 345,
   "metadata": {
    "scrolled": true
   },
   "outputs": [
    {
     "name": "stdout",
     "output_type": "stream",
     "text": [
      "          userId  orders\n",
      "1023  4256040402      11\n",
      "591   2458001652      11\n",
      "569   2378935119       9\n",
      "487   2038680547       8\n",
      "44     199603092       5\n",
      "744   3062433592       5\n",
      "55     237748145       5\n",
      "917   3803269165       5\n",
      "299   1230306981       5\n",
      "897   3717692402       5\n",
      "393   1614305549       4\n",
      "114    457167155       4\n",
      "619   2587333274       4\n",
      "340   1404934699       3\n",
      "937   3908431265       3\n"
     ]
    }
   ],
   "source": [
    "ordersByUsers = (df_orders.drop(['group', 'revenue', 'date'], axis=1).groupby('visitorId', as_index=False).agg({'transactionId': pd.Series.nunique}))\n",
    "ordersByUsers.columns = ['userId', 'orders']\n",
    "print(ordersByUsers.sort_values(by='orders', ascending=False).head(15))"
   ]
  },
  {
   "cell_type": "markdown",
   "metadata": {},
   "source": [
    "- os maiores pedidos são acima de 8\n",
    "- existem vários pedidos de 5 para baixo"
   ]
  },
  {
   "cell_type": "code",
   "execution_count": 346,
   "metadata": {
    "scrolled": false
   },
   "outputs": [
    {
     "name": "stdout",
     "output_type": "stream",
     "text": [
      "[2. 4.]\n"
     ]
    }
   ],
   "source": [
    "print(np.percentile(ordersByUsers['orders'], [95, 99]))"
   ]
  },
  {
   "cell_type": "markdown",
   "metadata": {},
   "source": [
    "- de acordo com o percentiis 95 e 99, o ponto de dados se torna uma anomalia acima de 4"
   ]
  },
  {
   "cell_type": "code",
   "execution_count": 347,
   "metadata": {},
   "outputs": [
    {
     "data": {
      "text/plain": [
       "<matplotlib.collections.PathCollection at 0x7fcd720cee50>"
      ]
     },
     "execution_count": 347,
     "metadata": {},
     "output_type": "execute_result"
    },
    {
     "data": {
      "image/png": "[encoded data removed]",
      "text/plain": [
       "<Figure size 640x480 with 1 Axes>"
      ]
     },
     "metadata": {},
     "output_type": "display_data"
    }
   ],
   "source": [
    "x_values = pd.Series(range(0, len(ordersByUsers)))\n",
    "plt.scatter(x_values, ordersByUsers['orders'])"
   ]
  },
  {
   "cell_type": "markdown",
   "metadata": {},
   "source": [
    "- assim como na tabela de quantidade de pedidos, o gráfico mostra que os pontos começam a ficar disperso acima de 8\n",
    "- porém, isso mostra uma diferença em comparação com os percentis\n",
    "- com isso, podemos definir o ponto de corte em pedidos acima de 4"
   ]
  },
  {
   "cell_type": "code",
   "execution_count": 348,
   "metadata": {},
   "outputs": [
    {
     "name": "stdout",
     "output_type": "stream",
     "text": [
      "[435.54  900.904]\n"
     ]
    }
   ],
   "source": [
    "print(np.percentile(df_orders['revenue'], [95, 99]))"
   ]
  },
  {
   "cell_type": "markdown",
   "metadata": {},
   "source": [
    "- o ponto de dados se tornam uma anomalia acima de 900"
   ]
  },
  {
   "cell_type": "code",
   "execution_count": 349,
   "metadata": {},
   "outputs": [],
   "source": [
    "ordersByUsersA = df_orders[df_orders['group'] == 'A'].groupby('visitorId', as_index=False).agg({'transactionId' : pd.Series.nunique})\n",
    "ordersByUsersA.columns = ['userId', 'orders']"
   ]
  },
  {
   "cell_type": "code",
   "execution_count": 350,
   "metadata": {},
   "outputs": [],
   "source": [
    "ordersByUsersB = df_orders[df_orders['group'] == 'B'].groupby('visitorId', as_index=False).agg({'transactionId' : pd.Series.nunique})\n",
    "ordersByUsersB.columns = ['userId', 'orders']"
   ]
  },
  {
   "cell_type": "code",
   "execution_count": 351,
   "metadata": {},
   "outputs": [],
   "source": [
    "sampleA = pd.concat([ordersByUsersA['orders'], pd.Series(0, index=np.arange(df_visitors[df_visitors['group'] == 'A']['visits'].sum() - len(ordersByUsersA['orders'])), name='orders')], axis=0)"
   ]
  },
  {
   "cell_type": "code",
   "execution_count": 352,
   "metadata": {},
   "outputs": [],
   "source": [
    "sampleB = pd.concat([ordersByUsersB['orders'], pd.Series(0, index=np.arange(df_visitors[df_visitors['group'] == 'B']['visits'].sum() - len(ordersByUsersA['orders'])), name='orders')], axis=0)"
   ]
  },
  {
   "cell_type": "code",
   "execution_count": 353,
   "metadata": {},
   "outputs": [
    {
     "name": "stdout",
     "output_type": "stream",
     "text": [
      "0.020\n",
      "0.133\n"
     ]
    }
   ],
   "source": [
    "print(\"{0:.3f}\".format(stats.mannwhitneyu(sampleA, sampleB)[1]))\n",
    "\n",
    "print(\"{0:.3f}\".format(sampleB.mean()/sampleA.mean()-1))"
   ]
  },
  {
   "cell_type": "markdown",
   "metadata": {},
   "source": [
    "- o valor-p é menor que 0.5, então rejeitamos a hipótese nula\n",
    "- podemos concluir que o volume médio não é diferente entre os grupos\n",
    "- e o vloume médio do grupo A é maior que do grupo B"
   ]
  },
  {
   "cell_type": "code",
   "execution_count": 354,
   "metadata": {},
   "outputs": [
    {
     "name": "stdout",
     "output_type": "stream",
     "text": [
      "0.692\n",
      "0.000\n"
     ]
    }
   ],
   "source": [
    "print('{0:.3f}'.format(stats.mannwhitneyu(df_orders[df_orders['group'] == 'A']['revenue'], df_orders[df_orders['group'] == 'B']['revenue'])[1]))\n",
    "print('{0:.3f}'.format(df_orders[df_orders['group'] == 'B']['revenue'].mean()/df_orders[df_orders['group'] == 'B']['revenue'].mean()-1))"
   ]
  },
  {
   "cell_type": "markdown",
   "metadata": {},
   "source": [
    "- o valor-p é consideravelmente maior que 0.05, então não há motivos para rejeitar a hipótese nula\n",
    "- com isso concluir que o volume médio de pedios seria diferente entre os pedidos\n",
    "- apesar disso, o volume médio de pedidos do grupo B é o mesmo do grupo A"
   ]
  },
  {
   "cell_type": "code",
   "execution_count": 355,
   "metadata": {
    "scrolled": true
   },
   "outputs": [
    {
     "name": "stdout",
     "output_type": "stream",
     "text": [
      "1099     148427295\n",
      "949      887908475\n",
      "744      888512513\n",
      "1103    1164614297\n",
      "1136    1307669133\n",
      "dtype: int64\n",
      "(15,)\n"
     ]
    }
   ],
   "source": [
    "usersWithManyOrders = pd.concat([ordersByUsersA[ordersByUsersA['orders'] > 4]['userId']], axis = 0)\n",
    "usersWithExpensiveOrders = df_orders[df_orders['revenue'] > 900]['visitorId']\n",
    "abnormalUsers = pd.concat([usersWithManyOrders, usersWithExpensiveOrders], axis = 0).drop_duplicates().sort_values()\n",
    "print(abnormalUsers.head())\n",
    "print(abnormalUsers.shape)"
   ]
  },
  {
   "cell_type": "code",
   "execution_count": 356,
   "metadata": {},
   "outputs": [],
   "source": [
    "sampleAFiltered = pd.concat([ordersByUsersA[np.logical_not(ordersByUsersA['userId'].isin(abnormalUsers))]['orders'],pd.Series(0, index=np.arange(df_visitors[df_visitors['group']=='A']['visits'].sum() - len(ordersByUsersA['orders'])),name='orders')],axis=0)"
   ]
  },
  {
   "cell_type": "code",
   "execution_count": 357,
   "metadata": {},
   "outputs": [],
   "source": [
    "sampleBFiltered = pd.concat([ordersByUsersB[np.logical_not(ordersByUsersB['userId'].isin(abnormalUsers))]['orders'],pd.Series(0, index=np.arange(df_visitors[df_visitors['group']=='B']['visits'].sum() - len(ordersByUsersB['orders'])),name='orders')],axis=0)"
   ]
  },
  {
   "cell_type": "code",
   "execution_count": 358,
   "metadata": {},
   "outputs": [
    {
     "name": "stdout",
     "output_type": "stream",
     "text": [
      "0.014\n",
      "0.153\n"
     ]
    }
   ],
   "source": [
    "print('{0:.3f}'.format(stats.mannwhitneyu(sampleAFiltered, sampleBFiltered)[1]))\n",
    "print('{0:.3f}'.format(sampleBFiltered.mean()/sampleAFiltered.mean()-1))"
   ]
  },
  {
   "cell_type": "markdown",
   "metadata": {},
   "source": [
    "- os valores quase não mudaram"
   ]
  },
  {
   "cell_type": "code",
   "execution_count": 359,
   "metadata": {},
   "outputs": [
    {
     "name": "stdout",
     "output_type": "stream",
     "text": [
      "0.819\n",
      "-0.006\n"
     ]
    }
   ],
   "source": [
    "print('{0:.3f}'.format(stats.mannwhitneyu(\n",
    "    df_orders[np.logical_and(\n",
    "        df_orders['group']=='A',\n",
    "        np.logical_not(df_orders['visitorId'].isin(abnormalUsers)))]['revenue'],\n",
    "    df_orders[np.logical_and(\n",
    "        df_orders['group']=='B',\n",
    "        np.logical_not(df_orders['visitorId'].isin(abnormalUsers)))]['revenue'])[1]))\n",
    "\n",
    "print('{0:.3f}'.format(\n",
    "    df_orders[np.logical_and(df_orders['group']=='B',np.logical_not(df_orders['visitorId'].isin(abnormalUsers)))]['revenue'].mean()/\n",
    "    df_orders[np.logical_and(\n",
    "        df_orders['group']=='A',\n",
    "        np.logical_not(df_orders['visitorId'].isin(abnormalUsers)))]['revenue'].mean() - 1))"
   ]
  },
  {
   "cell_type": "markdown",
   "metadata": {},
   "source": [
    "- o valor-p deu uma aumentada\n",
    "- agora existe uma diferença entre os grupos, sendo o grupo B maior do que o grupo A\n",
    "- com isso, é possível concluir que com os dados filtrados e tirando os dados que são anomalias, o grupo B é maior do que o A"
   ]
  },
  {
   "cell_type": "markdown",
   "metadata": {},
   "source": [
    "# Conclusão"
   ]
  },
  {
   "cell_type": "markdown",
   "metadata": {},
   "source": [
    "- o grupo A é o grupo líder\n",
    "- o grupo B é o grupo de teste\n",
    "- com os resultados dos testes é possível ver que existe diferença entre os grupos\n",
    "- com os dados filtrados, é possível perceber que o grupo B está melhor do que o grupo A\n",
    "- como aparetemente está melhorando, o teste deve continuar"
   ]
  }
 ],
 "metadata": {
  "ExecuteTimeLog": [
   {
    "duration": 5271,
    "start_time": "2024-06-02T17:14:15.261Z"
   },
   {
    "duration": 27,
    "start_time": "2024-06-02T17:14:48.121Z"
   },
   {
    "duration": 128,
    "start_time": "2024-06-02T17:14:56.060Z"
   },
   {
    "duration": 13,
    "start_time": "2024-06-02T17:15:31.770Z"
   },
   {
    "duration": 7,
    "start_time": "2024-06-02T17:15:42.961Z"
   },
   {
    "duration": 28,
    "start_time": "2024-06-02T17:15:49.692Z"
   },
   {
    "duration": 7,
    "start_time": "2024-06-02T17:16:08.282Z"
   },
   {
    "duration": 12,
    "start_time": "2024-06-02T17:16:09.165Z"
   },
   {
    "duration": 7,
    "start_time": "2024-06-02T17:16:21.068Z"
   },
   {
    "duration": 12,
    "start_time": "2024-06-02T17:16:21.904Z"
   },
   {
    "duration": 7,
    "start_time": "2024-06-02T17:16:29.452Z"
   },
   {
    "duration": 12,
    "start_time": "2024-06-02T17:16:31.290Z"
   },
   {
    "duration": 8,
    "start_time": "2024-06-02T17:16:40.426Z"
   },
   {
    "duration": 16,
    "start_time": "2024-06-02T17:16:40.967Z"
   },
   {
    "duration": 14,
    "start_time": "2024-06-02T17:16:54.909Z"
   },
   {
    "duration": 34,
    "start_time": "2024-06-02T17:19:03.419Z"
   },
   {
    "duration": 11,
    "start_time": "2024-06-02T17:20:04.900Z"
   },
   {
    "duration": 11,
    "start_time": "2024-06-02T17:21:57.803Z"
   },
   {
    "duration": 24,
    "start_time": "2024-06-02T17:26:24.480Z"
   },
   {
    "duration": 11,
    "start_time": "2024-06-02T17:26:33.596Z"
   },
   {
    "duration": 15,
    "start_time": "2024-06-02T17:26:41.411Z"
   },
   {
    "duration": 12,
    "start_time": "2024-06-02T17:26:53.900Z"
   },
   {
    "duration": 25,
    "start_time": "2024-06-02T17:27:12.588Z"
   },
   {
    "duration": 20,
    "start_time": "2024-06-02T17:27:26.292Z"
   },
   {
    "duration": 7,
    "start_time": "2024-06-02T17:27:35.029Z"
   },
   {
    "duration": 7,
    "start_time": "2024-06-02T17:29:12.669Z"
   },
   {
    "duration": 8,
    "start_time": "2024-06-02T17:29:26.968Z"
   },
   {
    "duration": 13,
    "start_time": "2024-06-02T17:29:59.742Z"
   },
   {
    "duration": 13,
    "start_time": "2024-06-02T17:30:07.162Z"
   },
   {
    "duration": 17,
    "start_time": "2024-06-02T17:30:19.909Z"
   },
   {
    "duration": 8,
    "start_time": "2024-06-02T17:30:52.639Z"
   },
   {
    "duration": 6,
    "start_time": "2024-06-02T17:31:30.461Z"
   },
   {
    "duration": 22,
    "start_time": "2024-06-02T17:34:09.835Z"
   },
   {
    "duration": 5,
    "start_time": "2024-06-02T17:35:44.590Z"
   },
   {
    "duration": 22,
    "start_time": "2024-06-02T17:35:45.461Z"
   },
   {
    "duration": 4,
    "start_time": "2024-06-02T17:36:00.249Z"
   },
   {
    "duration": 5,
    "start_time": "2024-06-02T17:36:24.668Z"
   },
   {
    "duration": 7,
    "start_time": "2024-06-02T17:36:57.998Z"
   },
   {
    "duration": 4,
    "start_time": "2024-06-02T17:37:27.360Z"
   },
   {
    "duration": 9,
    "start_time": "2024-06-02T17:37:27.584Z"
   },
   {
    "duration": 15,
    "start_time": "2024-06-02T17:37:27.777Z"
   },
   {
    "duration": 10,
    "start_time": "2024-06-02T17:37:28.015Z"
   },
   {
    "duration": 13,
    "start_time": "2024-06-02T17:37:28.228Z"
   },
   {
    "duration": 12,
    "start_time": "2024-06-02T17:37:28.703Z"
   },
   {
    "duration": 9,
    "start_time": "2024-06-02T17:37:29.971Z"
   },
   {
    "duration": 15,
    "start_time": "2024-06-02T17:37:30.572Z"
   },
   {
    "duration": 12,
    "start_time": "2024-06-02T17:37:30.994Z"
   },
   {
    "duration": 8,
    "start_time": "2024-06-02T17:37:31.537Z"
   },
   {
    "duration": 8,
    "start_time": "2024-06-02T17:37:32.312Z"
   },
   {
    "duration": 4,
    "start_time": "2024-06-02T17:37:32.813Z"
   },
   {
    "duration": 7,
    "start_time": "2024-06-02T17:37:33.548Z"
   },
   {
    "duration": 7,
    "start_time": "2024-06-02T17:37:44.991Z"
   },
   {
    "duration": 6,
    "start_time": "2024-06-02T17:37:54.342Z"
   },
   {
    "duration": 8,
    "start_time": "2024-06-02T17:37:54.750Z"
   },
   {
    "duration": 13,
    "start_time": "2024-06-02T17:37:55.021Z"
   },
   {
    "duration": 10,
    "start_time": "2024-06-02T17:37:55.278Z"
   },
   {
    "duration": 10,
    "start_time": "2024-06-02T17:37:55.647Z"
   },
   {
    "duration": 11,
    "start_time": "2024-06-02T17:37:56.161Z"
   },
   {
    "duration": 8,
    "start_time": "2024-06-02T17:37:57.429Z"
   },
   {
    "duration": 15,
    "start_time": "2024-06-02T17:37:58.248Z"
   },
   {
    "duration": 12,
    "start_time": "2024-06-02T17:37:59.435Z"
   },
   {
    "duration": 7,
    "start_time": "2024-06-02T17:38:00.228Z"
   },
   {
    "duration": 8,
    "start_time": "2024-06-02T17:38:02.391Z"
   },
   {
    "duration": 5,
    "start_time": "2024-06-02T17:38:03.405Z"
   },
   {
    "duration": 6,
    "start_time": "2024-06-02T17:38:05.411Z"
   },
   {
    "duration": 4,
    "start_time": "2024-06-02T17:38:58.847Z"
   },
   {
    "duration": 8,
    "start_time": "2024-06-02T17:38:59.028Z"
   },
   {
    "duration": 13,
    "start_time": "2024-06-02T17:38:59.194Z"
   },
   {
    "duration": 11,
    "start_time": "2024-06-02T17:38:59.378Z"
   },
   {
    "duration": 11,
    "start_time": "2024-06-02T17:38:59.564Z"
   },
   {
    "duration": 11,
    "start_time": "2024-06-02T17:38:59.755Z"
   },
   {
    "duration": 8,
    "start_time": "2024-06-02T17:39:00.290Z"
   },
   {
    "duration": 14,
    "start_time": "2024-06-02T17:39:00.498Z"
   },
   {
    "duration": 11,
    "start_time": "2024-06-02T17:39:00.682Z"
   },
   {
    "duration": 9,
    "start_time": "2024-06-02T17:39:00.875Z"
   },
   {
    "duration": 7,
    "start_time": "2024-06-02T17:39:01.063Z"
   },
   {
    "duration": 5,
    "start_time": "2024-06-02T17:39:01.265Z"
   },
   {
    "duration": 8,
    "start_time": "2024-06-02T17:39:01.480Z"
   },
   {
    "duration": 17,
    "start_time": "2024-06-02T17:39:01.660Z"
   },
   {
    "duration": 10,
    "start_time": "2024-06-02T17:39:01.857Z"
   },
   {
    "duration": 10,
    "start_time": "2024-06-02T17:39:02.027Z"
   },
   {
    "duration": 9,
    "start_time": "2024-06-02T17:39:02.229Z"
   },
   {
    "duration": 7,
    "start_time": "2024-06-02T17:39:02.740Z"
   },
   {
    "duration": 14,
    "start_time": "2024-06-02T17:47:48.197Z"
   },
   {
    "duration": 11,
    "start_time": "2024-06-02T17:48:16.231Z"
   },
   {
    "duration": 7,
    "start_time": "2024-06-02T17:50:52.514Z"
   },
   {
    "duration": 765,
    "start_time": "2024-06-02T17:50:59.078Z"
   },
   {
    "duration": 8,
    "start_time": "2024-06-02T17:51:26.757Z"
   },
   {
    "duration": 13,
    "start_time": "2024-06-02T17:51:52.806Z"
   },
   {
    "duration": 4,
    "start_time": "2024-06-02T17:52:24.519Z"
   },
   {
    "duration": 9,
    "start_time": "2024-06-02T17:52:24.778Z"
   },
   {
    "duration": 13,
    "start_time": "2024-06-02T17:52:24.992Z"
   },
   {
    "duration": 11,
    "start_time": "2024-06-02T17:52:25.215Z"
   },
   {
    "duration": 11,
    "start_time": "2024-06-02T17:52:25.424Z"
   },
   {
    "duration": 11,
    "start_time": "2024-06-02T17:52:25.647Z"
   },
   {
    "duration": 9,
    "start_time": "2024-06-02T17:52:26.284Z"
   },
   {
    "duration": 18,
    "start_time": "2024-06-02T17:52:26.605Z"
   },
   {
    "duration": 12,
    "start_time": "2024-06-02T17:52:26.836Z"
   },
   {
    "duration": 7,
    "start_time": "2024-06-02T17:52:27.052Z"
   },
   {
    "duration": 7,
    "start_time": "2024-06-02T17:52:27.795Z"
   },
   {
    "duration": 8,
    "start_time": "2024-06-02T17:52:28.317Z"
   },
   {
    "duration": 14,
    "start_time": "2024-06-02T17:52:29.491Z"
   },
   {
    "duration": 10,
    "start_time": "2024-06-02T17:52:30.628Z"
   },
   {
    "duration": 7,
    "start_time": "2024-06-02T17:52:31.219Z"
   },
   {
    "duration": 8,
    "start_time": "2024-06-02T17:52:31.988Z"
   },
   {
    "duration": 14,
    "start_time": "2024-06-02T17:52:33.529Z"
   },
   {
    "duration": 5,
    "start_time": "2024-06-02T17:54:05.664Z"
   },
   {
    "duration": 8,
    "start_time": "2024-06-02T17:54:06.694Z"
   },
   {
    "duration": 19,
    "start_time": "2024-06-02T17:54:06.884Z"
   },
   {
    "duration": 10,
    "start_time": "2024-06-02T17:54:07.100Z"
   },
   {
    "duration": 7,
    "start_time": "2024-06-02T17:54:08.468Z"
   },
   {
    "duration": 6,
    "start_time": "2024-06-02T17:54:09.229Z"
   },
   {
    "duration": 5,
    "start_time": "2024-06-02T17:55:01.162Z"
   },
   {
    "duration": 13,
    "start_time": "2024-06-02T17:55:01.642Z"
   },
   {
    "duration": 13,
    "start_time": "2024-06-02T17:55:38.410Z"
   },
   {
    "duration": 8,
    "start_time": "2024-06-02T17:56:51.039Z"
   },
   {
    "duration": 5,
    "start_time": "2024-06-02T17:57:00.735Z"
   },
   {
    "duration": 8,
    "start_time": "2024-06-02T17:57:01.024Z"
   },
   {
    "duration": 13,
    "start_time": "2024-06-02T17:57:01.404Z"
   },
   {
    "duration": 12,
    "start_time": "2024-06-02T17:57:02.610Z"
   },
   {
    "duration": 10,
    "start_time": "2024-06-02T17:57:03.464Z"
   },
   {
    "duration": 12,
    "start_time": "2024-06-02T17:57:03.900Z"
   },
   {
    "duration": 9,
    "start_time": "2024-06-02T17:57:04.985Z"
   },
   {
    "duration": 15,
    "start_time": "2024-06-02T17:57:06.279Z"
   },
   {
    "duration": 12,
    "start_time": "2024-06-02T17:57:06.550Z"
   },
   {
    "duration": 7,
    "start_time": "2024-06-02T17:57:06.775Z"
   },
   {
    "duration": 13,
    "start_time": "2024-06-02T17:57:33.069Z"
   },
   {
    "duration": 11,
    "start_time": "2024-06-02T17:57:40.904Z"
   },
   {
    "duration": 5,
    "start_time": "2024-06-02T17:57:44.268Z"
   },
   {
    "duration": 9,
    "start_time": "2024-06-02T17:57:54.355Z"
   },
   {
    "duration": 5,
    "start_time": "2024-06-02T17:58:36.024Z"
   },
   {
    "duration": 8,
    "start_time": "2024-06-02T17:58:36.331Z"
   },
   {
    "duration": 13,
    "start_time": "2024-06-02T17:58:36.519Z"
   },
   {
    "duration": 10,
    "start_time": "2024-06-02T17:58:36.730Z"
   },
   {
    "duration": 10,
    "start_time": "2024-06-02T17:58:36.957Z"
   },
   {
    "duration": 11,
    "start_time": "2024-06-02T17:58:37.484Z"
   },
   {
    "duration": 9,
    "start_time": "2024-06-02T17:58:38.711Z"
   },
   {
    "duration": 17,
    "start_time": "2024-06-02T17:58:39.448Z"
   },
   {
    "duration": 12,
    "start_time": "2024-06-02T17:58:39.891Z"
   },
   {
    "duration": 7,
    "start_time": "2024-06-02T17:58:40.317Z"
   },
   {
    "duration": 9,
    "start_time": "2024-06-02T17:58:40.541Z"
   },
   {
    "duration": 7,
    "start_time": "2024-06-02T17:58:40.824Z"
   },
   {
    "duration": 15,
    "start_time": "2024-06-02T17:58:41.063Z"
   },
   {
    "duration": 11,
    "start_time": "2024-06-02T17:58:41.265Z"
   },
   {
    "duration": 9,
    "start_time": "2024-06-02T17:58:42.003Z"
   },
   {
    "duration": 6,
    "start_time": "2024-06-02T17:58:42.703Z"
   },
   {
    "duration": 15,
    "start_time": "2024-06-02T17:58:43.804Z"
   },
   {
    "duration": 13,
    "start_time": "2024-06-02T17:58:56.586Z"
   },
   {
    "duration": 13,
    "start_time": "2024-06-02T17:59:05.475Z"
   },
   {
    "duration": 9,
    "start_time": "2024-06-02T17:59:49.726Z"
   },
   {
    "duration": 4,
    "start_time": "2024-06-02T18:00:27.718Z"
   },
   {
    "duration": 9,
    "start_time": "2024-06-02T18:00:27.878Z"
   },
   {
    "duration": 13,
    "start_time": "2024-06-02T18:00:28.045Z"
   },
   {
    "duration": 11,
    "start_time": "2024-06-02T18:00:28.228Z"
   },
   {
    "duration": 11,
    "start_time": "2024-06-02T18:00:28.448Z"
   },
   {
    "duration": 12,
    "start_time": "2024-06-02T18:00:28.620Z"
   },
   {
    "duration": 8,
    "start_time": "2024-06-02T18:00:29.167Z"
   },
   {
    "duration": 18,
    "start_time": "2024-06-02T18:00:29.668Z"
   },
   {
    "duration": 11,
    "start_time": "2024-06-02T18:00:29.993Z"
   },
   {
    "duration": 7,
    "start_time": "2024-06-02T18:00:31.298Z"
   },
   {
    "duration": 13,
    "start_time": "2024-06-02T18:00:32.122Z"
   },
   {
    "duration": 292,
    "start_time": "2024-06-02T18:01:25.584Z"
   },
   {
    "duration": 4,
    "start_time": "2024-06-02T18:01:32.198Z"
   },
   {
    "duration": 10,
    "start_time": "2024-06-02T18:01:32.331Z"
   },
   {
    "duration": 13,
    "start_time": "2024-06-02T18:01:32.505Z"
   },
   {
    "duration": 10,
    "start_time": "2024-06-02T18:01:32.674Z"
   },
   {
    "duration": 10,
    "start_time": "2024-06-02T18:01:32.841Z"
   },
   {
    "duration": 12,
    "start_time": "2024-06-02T18:01:33.010Z"
   },
   {
    "duration": 9,
    "start_time": "2024-06-02T18:01:33.356Z"
   },
   {
    "duration": 13,
    "start_time": "2024-06-02T18:01:33.536Z"
   },
   {
    "duration": 13,
    "start_time": "2024-06-02T18:01:33.761Z"
   },
   {
    "duration": 7,
    "start_time": "2024-06-02T18:01:34.198Z"
   },
   {
    "duration": 12,
    "start_time": "2024-06-02T18:01:34.549Z"
   },
   {
    "duration": 74,
    "start_time": "2024-06-02T18:01:35.382Z"
   },
   {
    "duration": 21,
    "start_time": "2024-06-02T18:01:50.431Z"
   },
   {
    "duration": 7,
    "start_time": "2024-06-02T18:01:53.890Z"
   },
   {
    "duration": 13,
    "start_time": "2024-06-02T18:01:54.402Z"
   },
   {
    "duration": 11,
    "start_time": "2024-06-02T18:01:55.004Z"
   },
   {
    "duration": 7,
    "start_time": "2024-06-02T18:01:55.998Z"
   },
   {
    "duration": 10,
    "start_time": "2024-06-02T18:01:56.906Z"
   },
   {
    "duration": 8,
    "start_time": "2024-06-02T18:02:48.437Z"
   },
   {
    "duration": 409,
    "start_time": "2024-06-02T18:02:49.135Z"
   },
   {
    "duration": 12,
    "start_time": "2024-06-02T18:02:49.552Z"
   },
   {
    "duration": 12,
    "start_time": "2024-06-02T18:02:56.025Z"
   },
   {
    "duration": 9,
    "start_time": "2024-06-02T18:05:27.728Z"
   },
   {
    "duration": 25,
    "start_time": "2024-06-02T18:06:18.052Z"
   },
   {
    "duration": 7,
    "start_time": "2024-06-02T18:06:26.241Z"
   },
   {
    "duration": 12,
    "start_time": "2024-06-02T18:08:18.112Z"
   },
   {
    "duration": 14,
    "start_time": "2024-06-02T18:11:08.575Z"
   },
   {
    "duration": 6,
    "start_time": "2024-06-02T18:11:26.788Z"
   },
   {
    "duration": 8,
    "start_time": "2024-06-02T18:11:32.657Z"
   },
   {
    "duration": 341,
    "start_time": "2024-06-02T18:12:26.695Z"
   },
   {
    "duration": 1723,
    "start_time": "2024-06-02T18:13:22.355Z"
   },
   {
    "duration": 249,
    "start_time": "2024-06-02T18:13:38.719Z"
   },
   {
    "duration": 259,
    "start_time": "2024-06-02T18:13:48.910Z"
   },
   {
    "duration": 8,
    "start_time": "2024-06-02T18:15:24.528Z"
   },
   {
    "duration": 257,
    "start_time": "2024-06-02T18:15:58.715Z"
   },
   {
    "duration": 242,
    "start_time": "2024-06-02T18:18:38.678Z"
   },
   {
    "duration": 252,
    "start_time": "2024-06-02T18:18:55.668Z"
   },
   {
    "duration": 25,
    "start_time": "2024-06-02T18:26:17.087Z"
   },
   {
    "duration": 9,
    "start_time": "2024-06-02T18:26:27.116Z"
   },
   {
    "duration": 338,
    "start_time": "2024-06-02T18:28:47.547Z"
   },
   {
    "duration": 306,
    "start_time": "2024-06-02T18:29:41.079Z"
   },
   {
    "duration": 325,
    "start_time": "2024-06-02T18:30:04.262Z"
   },
   {
    "duration": 5,
    "start_time": "2024-06-02T18:33:50.115Z"
   },
   {
    "duration": 7,
    "start_time": "2024-06-02T18:34:43.663Z"
   },
   {
    "duration": 305,
    "start_time": "2024-06-02T18:36:08.076Z"
   },
   {
    "duration": 7,
    "start_time": "2024-06-02T18:40:29.927Z"
   },
   {
    "duration": 6,
    "start_time": "2024-06-02T18:40:54.077Z"
   },
   {
    "duration": 13,
    "start_time": "2024-06-02T18:42:51.057Z"
   },
   {
    "duration": 367,
    "start_time": "2024-06-02T18:45:08.009Z"
   },
   {
    "duration": 6,
    "start_time": "2024-06-02T18:50:00.075Z"
   },
   {
    "duration": 5,
    "start_time": "2024-06-02T18:51:45.829Z"
   },
   {
    "duration": 909,
    "start_time": "2024-06-02T18:55:10.356Z"
   },
   {
    "duration": 5,
    "start_time": "2024-06-02T18:56:38.585Z"
   },
   {
    "duration": 207,
    "start_time": "2024-06-02T18:57:29.208Z"
   },
   {
    "duration": 53,
    "start_time": "2024-06-02T18:59:49.753Z"
   },
   {
    "duration": 34,
    "start_time": "2024-06-02T18:59:54.370Z"
   },
   {
    "duration": 6,
    "start_time": "2024-06-02T19:00:00.431Z"
   },
   {
    "duration": 287,
    "start_time": "2024-06-02T19:05:05.748Z"
   },
   {
    "duration": 200,
    "start_time": "2024-06-02T19:05:16.144Z"
   },
   {
    "duration": 189,
    "start_time": "2024-06-02T19:06:24.618Z"
   },
   {
    "duration": 6,
    "start_time": "2024-06-02T19:07:17.383Z"
   },
   {
    "duration": 4,
    "start_time": "2024-06-02T19:16:19.811Z"
   },
   {
    "duration": 9,
    "start_time": "2024-06-02T19:16:20.018Z"
   },
   {
    "duration": 13,
    "start_time": "2024-06-02T19:16:20.214Z"
   },
   {
    "duration": 11,
    "start_time": "2024-06-02T19:16:20.420Z"
   },
   {
    "duration": 9,
    "start_time": "2024-06-02T19:16:20.642Z"
   },
   {
    "duration": 11,
    "start_time": "2024-06-02T19:16:24.308Z"
   },
   {
    "duration": 9,
    "start_time": "2024-06-02T19:16:24.809Z"
   },
   {
    "duration": 16,
    "start_time": "2024-06-02T19:16:25.129Z"
   },
   {
    "duration": 11,
    "start_time": "2024-06-02T19:16:25.617Z"
   },
   {
    "duration": 7,
    "start_time": "2024-06-02T19:16:25.874Z"
   },
   {
    "duration": 9,
    "start_time": "2024-06-02T19:16:26.247Z"
   },
   {
    "duration": 20,
    "start_time": "2024-06-02T19:16:26.703Z"
   },
   {
    "duration": 8,
    "start_time": "2024-06-02T19:16:26.907Z"
   },
   {
    "duration": 13,
    "start_time": "2024-06-02T19:16:27.112Z"
   },
   {
    "duration": 10,
    "start_time": "2024-06-02T19:16:27.546Z"
   },
   {
    "duration": 7,
    "start_time": "2024-06-02T19:16:27.741Z"
   },
   {
    "duration": 6,
    "start_time": "2024-06-02T19:16:27.982Z"
   },
   {
    "duration": 9,
    "start_time": "2024-06-02T19:16:42.213Z"
   },
   {
    "duration": 433,
    "start_time": "2024-06-02T19:16:42.351Z"
   },
   {
    "duration": 16,
    "start_time": "2024-06-02T19:16:42.803Z"
   },
   {
    "duration": 12,
    "start_time": "2024-06-02T19:16:43.564Z"
   },
   {
    "duration": 284,
    "start_time": "2024-06-02T19:16:43.724Z"
   },
   {
    "duration": 251,
    "start_time": "2024-06-02T19:16:44.112Z"
   },
   {
    "duration": 9,
    "start_time": "2024-06-02T19:16:44.670Z"
   },
   {
    "duration": 367,
    "start_time": "2024-06-02T19:16:44.924Z"
   },
   {
    "duration": 6,
    "start_time": "2024-06-02T19:16:45.294Z"
   },
   {
    "duration": 6,
    "start_time": "2024-06-02T19:16:45.524Z"
   },
   {
    "duration": 287,
    "start_time": "2024-06-02T19:16:45.769Z"
   },
   {
    "duration": 11,
    "start_time": "2024-06-02T19:16:46.325Z"
   },
   {
    "duration": 331,
    "start_time": "2024-06-02T19:16:47.273Z"
   },
   {
    "duration": 271,
    "start_time": "2024-06-02T19:16:48.286Z"
   },
   {
    "duration": 5,
    "start_time": "2024-06-02T19:16:49.892Z"
   },
   {
    "duration": 5,
    "start_time": "2024-06-02T19:17:45.133Z"
   },
   {
    "duration": 245,
    "start_time": "2024-06-02T19:18:46.073Z"
   },
   {
    "duration": 6,
    "start_time": "2024-06-02T19:19:37.139Z"
   },
   {
    "duration": 5,
    "start_time": "2024-06-02T19:20:17.450Z"
   },
   {
    "duration": 175,
    "start_time": "2024-06-02T19:20:17.878Z"
   },
   {
    "duration": 191,
    "start_time": "2024-06-02T19:20:26.025Z"
   },
   {
    "duration": 6,
    "start_time": "2024-06-02T19:24:27.164Z"
   },
   {
    "duration": 523,
    "start_time": "2024-06-02T19:27:53.108Z"
   },
   {
    "duration": 6,
    "start_time": "2024-06-02T19:28:10.984Z"
   },
   {
    "duration": 7,
    "start_time": "2024-06-02T19:28:33.244Z"
   },
   {
    "duration": 26,
    "start_time": "2024-06-02T19:29:19.855Z"
   },
   {
    "duration": 38,
    "start_time": "2024-06-02T19:30:02.041Z"
   },
   {
    "duration": 117,
    "start_time": "2024-06-02T19:30:57.397Z"
   },
   {
    "duration": 142,
    "start_time": "2024-06-02T19:31:14.199Z"
   },
   {
    "duration": 12,
    "start_time": "2024-06-02T19:33:17.469Z"
   },
   {
    "duration": 11,
    "start_time": "2024-06-02T19:34:07.956Z"
   },
   {
    "duration": 31,
    "start_time": "2024-06-02T19:36:33.651Z"
   },
   {
    "duration": 10,
    "start_time": "2024-06-02T19:36:43.515Z"
   },
   {
    "duration": 9,
    "start_time": "2024-06-02T19:37:11.057Z"
   },
   {
    "duration": 9,
    "start_time": "2024-06-02T19:37:15.060Z"
   },
   {
    "duration": 8,
    "start_time": "2024-06-02T19:37:21.699Z"
   },
   {
    "duration": 7,
    "start_time": "2024-06-02T19:38:15.008Z"
   },
   {
    "duration": 7,
    "start_time": "2024-06-02T19:38:15.504Z"
   },
   {
    "duration": 25,
    "start_time": "2024-06-02T19:39:40.837Z"
   },
   {
    "duration": 31,
    "start_time": "2024-06-02T19:40:31.845Z"
   },
   {
    "duration": 25,
    "start_time": "2024-06-02T19:42:15.177Z"
   },
   {
    "duration": 5,
    "start_time": "2024-06-02T19:43:23.670Z"
   },
   {
    "duration": 32,
    "start_time": "2024-06-02T19:43:31.580Z"
   },
   {
    "duration": 14,
    "start_time": "2024-06-02T19:49:37.964Z"
   },
   {
    "duration": 86,
    "start_time": "2024-06-02T19:56:56.781Z"
   },
   {
    "duration": 25,
    "start_time": "2024-06-02T19:57:26.339Z"
   },
   {
    "duration": 11,
    "start_time": "2024-06-02T19:57:39.821Z"
   },
   {
    "duration": 3,
    "start_time": "2024-06-02T19:58:06.985Z"
   },
   {
    "duration": 284,
    "start_time": "2024-06-02T20:00:44.899Z"
   },
   {
    "duration": 29,
    "start_time": "2024-06-02T20:01:13.921Z"
   },
   {
    "duration": 8,
    "start_time": "2024-06-02T20:01:27.313Z"
   },
   {
    "duration": 10,
    "start_time": "2024-06-02T20:02:06.236Z"
   },
   {
    "duration": 56,
    "start_time": "2024-06-02T20:03:43.287Z"
   },
   {
    "duration": 8,
    "start_time": "2024-06-02T20:03:58.990Z"
   },
   {
    "duration": 31,
    "start_time": "2024-06-02T20:04:04.341Z"
   },
   {
    "duration": 34,
    "start_time": "2024-06-02T20:12:35.939Z"
   },
   {
    "duration": 35,
    "start_time": "2024-06-02T20:12:41.705Z"
   },
   {
    "duration": 34,
    "start_time": "2024-06-02T20:12:50.198Z"
   },
   {
    "duration": 94,
    "start_time": "2024-06-02T20:13:10.480Z"
   },
   {
    "duration": 25,
    "start_time": "2024-06-02T20:13:23.250Z"
   },
   {
    "duration": 5,
    "start_time": "2024-06-02T20:18:00.311Z"
   },
   {
    "duration": 9,
    "start_time": "2024-06-02T20:18:01.035Z"
   },
   {
    "duration": 15,
    "start_time": "2024-06-02T20:18:01.861Z"
   },
   {
    "duration": 13,
    "start_time": "2024-06-02T20:18:02.322Z"
   },
   {
    "duration": 11,
    "start_time": "2024-06-02T20:18:03.077Z"
   },
   {
    "duration": 12,
    "start_time": "2024-06-02T20:18:03.759Z"
   },
   {
    "duration": 11,
    "start_time": "2024-06-02T20:18:05.681Z"
   },
   {
    "duration": 15,
    "start_time": "2024-06-02T20:18:06.424Z"
   },
   {
    "duration": 11,
    "start_time": "2024-06-02T20:18:07.913Z"
   },
   {
    "duration": 9,
    "start_time": "2024-06-02T20:18:08.442Z"
   },
   {
    "duration": 8,
    "start_time": "2024-06-02T20:18:08.932Z"
   },
   {
    "duration": 21,
    "start_time": "2024-06-02T20:18:10.470Z"
   },
   {
    "duration": 65,
    "start_time": "2024-06-02T20:18:19.844Z"
   },
   {
    "duration": 8,
    "start_time": "2024-06-02T20:18:20.364Z"
   },
   {
    "duration": 5,
    "start_time": "2024-06-02T20:18:36.153Z"
   },
   {
    "duration": 8,
    "start_time": "2024-06-02T20:18:36.467Z"
   },
   {
    "duration": 14,
    "start_time": "2024-06-02T20:18:36.696Z"
   },
   {
    "duration": 11,
    "start_time": "2024-06-02T20:18:36.905Z"
   },
   {
    "duration": 11,
    "start_time": "2024-06-02T20:18:37.123Z"
   },
   {
    "duration": 11,
    "start_time": "2024-06-02T20:18:37.279Z"
   },
   {
    "duration": 9,
    "start_time": "2024-06-02T20:18:37.857Z"
   },
   {
    "duration": 14,
    "start_time": "2024-06-02T20:18:38.040Z"
   },
   {
    "duration": 12,
    "start_time": "2024-06-02T20:18:38.404Z"
   },
   {
    "duration": 10,
    "start_time": "2024-06-02T20:18:38.812Z"
   },
   {
    "duration": 9,
    "start_time": "2024-06-02T20:18:39.005Z"
   },
   {
    "duration": 19,
    "start_time": "2024-06-02T20:18:39.566Z"
   },
   {
    "duration": 7,
    "start_time": "2024-06-02T20:18:45.342Z"
   },
   {
    "duration": 13,
    "start_time": "2024-06-02T20:18:46.725Z"
   },
   {
    "duration": 10,
    "start_time": "2024-06-02T20:18:47.427Z"
   },
   {
    "duration": 7,
    "start_time": "2024-06-02T20:18:47.823Z"
   },
   {
    "duration": 6,
    "start_time": "2024-06-02T20:18:48.089Z"
   },
   {
    "duration": 6,
    "start_time": "2024-06-02T20:18:48.715Z"
   },
   {
    "duration": 408,
    "start_time": "2024-06-02T20:18:48.947Z"
   },
   {
    "duration": 15,
    "start_time": "2024-06-02T20:18:50.316Z"
   },
   {
    "duration": 9,
    "start_time": "2024-06-02T20:18:51.006Z"
   },
   {
    "duration": 280,
    "start_time": "2024-06-02T20:18:51.828Z"
   },
   {
    "duration": 251,
    "start_time": "2024-06-02T20:18:53.282Z"
   },
   {
    "duration": 9,
    "start_time": "2024-06-02T20:18:55.570Z"
   },
   {
    "duration": 385,
    "start_time": "2024-06-02T20:18:56.103Z"
   },
   {
    "duration": 5,
    "start_time": "2024-06-02T20:18:56.984Z"
   },
   {
    "duration": 7,
    "start_time": "2024-06-02T20:18:57.935Z"
   },
   {
    "duration": 287,
    "start_time": "2024-06-02T20:18:58.725Z"
   },
   {
    "duration": 10,
    "start_time": "2024-06-02T20:19:00.927Z"
   },
   {
    "duration": 399,
    "start_time": "2024-06-02T20:19:01.395Z"
   },
   {
    "duration": 226,
    "start_time": "2024-06-02T20:19:06.276Z"
   },
   {
    "duration": 6,
    "start_time": "2024-06-02T20:19:06.732Z"
   },
   {
    "duration": 180,
    "start_time": "2024-06-02T20:19:07.132Z"
   },
   {
    "duration": 5,
    "start_time": "2024-06-02T20:19:07.728Z"
   },
   {
    "duration": 117,
    "start_time": "2024-06-02T20:19:08.646Z"
   },
   {
    "duration": 134,
    "start_time": "2024-06-02T20:19:08.962Z"
   },
   {
    "duration": 7,
    "start_time": "2024-06-02T20:19:09.355Z"
   },
   {
    "duration": 7,
    "start_time": "2024-06-02T20:19:09.603Z"
   },
   {
    "duration": 33,
    "start_time": "2024-06-02T20:19:10.326Z"
   },
   {
    "duration": 15,
    "start_time": "2024-06-02T20:19:11.032Z"
   },
   {
    "duration": 11,
    "start_time": "2024-06-02T20:19:11.497Z"
   },
   {
    "duration": 9,
    "start_time": "2024-06-02T20:19:11.855Z"
   },
   {
    "duration": 9,
    "start_time": "2024-06-02T20:19:12.094Z"
   },
   {
    "duration": 32,
    "start_time": "2024-06-02T20:19:12.352Z"
   },
   {
    "duration": 19,
    "start_time": "2024-06-02T20:19:12.784Z"
   }
  ],
  "kernelspec": {
   "display_name": "Python 3 (ipykernel)",
   "language": "python",
   "name": "python3"
  },
  "language_info": {
   "codemirror_mode": {
    "name": "ipython",
    "version": 3
   },
   "file_extension": ".py",
   "mimetype": "text/x-python",
   "name": "python",
   "nbconvert_exporter": "python",
   "pygments_lexer": "ipython3",
   "version": "3.11.5"
  },
  "toc": {
   "base_numbering": 1,
   "nav_menu": {},
   "number_sections": true,
   "sideBar": true,
   "skip_h1_title": true,
   "title_cell": "Table of Contents",
   "title_sidebar": "Contents",
   "toc_cell": false,
   "toc_position": {},
   "toc_section_display": true,
   "toc_window_display": false
  }
 },
 "nbformat": 4,
 "nbformat_minor": 2
}
